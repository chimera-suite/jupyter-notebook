{
 "cells": [
  {
   "cell_type": "markdown",
   "metadata": {},
   "source": [
    "# PySPARQL CONSTRUCT example\n",
    "### Query your SPARQL endpoint and manage the results inside Apache Spark"
   ]
  },
  {
   "cell_type": "code",
   "execution_count": 1,
   "metadata": {},
   "outputs": [],
   "source": [
    "from PySPARQL.Wrapper import PySPARQLWrapper\n",
    "from pyspark.sql import SparkSession"
   ]
  },
  {
   "cell_type": "code",
   "execution_count": 2,
   "metadata": {},
   "outputs": [],
   "source": [
    "spark = SparkSession \\\n",
    "    .builder \\\n",
    "    .appName(\"PySPARQL example\") \\\n",
    "    .getOrCreate()"
   ]
  },
  {
   "cell_type": "markdown",
   "metadata": {},
   "source": [
    "### Use dbpedia SPARQL endpoint"
   ]
  },
  {
   "cell_type": "code",
   "execution_count": 3,
   "metadata": {},
   "outputs": [],
   "source": [
    "sparql_endpoint = \"https://dbpedia.org/sparql\""
   ]
  },
  {
   "cell_type": "code",
   "execution_count": 4,
   "metadata": {},
   "outputs": [],
   "source": [
    "wrapper = PySPARQLWrapper(spark, sparql_endpoint)"
   ]
  },
  {
   "cell_type": "markdown",
   "metadata": {},
   "source": [
    "### Construct a graph of the European coutries with their capitals"
   ]
  },
  {
   "cell_type": "code",
   "execution_count": 5,
   "metadata": {},
   "outputs": [],
   "source": [
    "query = \"\"\"\n",
    "PREFIX dbr:    <http://dbpedia.org/resource/>\n",
    "PREFIX dbo:    <http://dbpedia.org/ontology/>\n",
    "PREFIX rdf:    <http://www.w3.org/1999/02/22-rdf-syntax-ns#>\n",
    "PREFIX rdfs:   <http://www.w3.org/2000/01/rdf-schema#>\n",
    "\n",
    "CONSTRUCT {\n",
    "    ?city a dbo:City ;\n",
    "        rdfs:label ?cityLabel .\n",
    "    ?country a dbo:Country ;\n",
    "        rdfs:label ?countryLabel ;\n",
    "        dbo:capital ?city ;\n",
    "        dct:subject dbc:Countries_in_Europe .\n",
    "}\n",
    "WHERE { \n",
    "    ?city a dbo:City ;\n",
    "        rdfs:label ?cityLabel .\n",
    "    ?country a dbo:Country ;\n",
    "        rdfs:label ?countryLabel ;\n",
    "        dbo:capital ?city ;\n",
    "        dct:subject dbc:Countries_in_Europe .\n",
    "    FILTER (\n",
    "        LANG(?cityLabel) = \"en\" &&\n",
    "        LANG(?countryLabel) = \"en\"\n",
    "    )\n",
    "}     \n",
    "\"\"\""
   ]
  },
  {
   "cell_type": "code",
   "execution_count": 6,
   "metadata": {},
   "outputs": [],
   "source": [
    "result = wrapper.query(query)"
   ]
  },
  {
   "cell_type": "markdown",
   "metadata": {},
   "source": [
    "### Result as a DataFrame"
   ]
  },
  {
   "cell_type": "code",
   "execution_count": 7,
   "metadata": {},
   "outputs": [
    {
     "name": "stdout",
     "output_type": "stream",
     "text": [
      "+--------------------+--------------------+--------------------+\n",
      "|             subject|           predicate|              object|\n",
      "+--------------------+--------------------+--------------------+\n",
      "|http://dbpedia.or...|http://www.w3.org...|              Latvia|\n",
      "|http://dbpedia.or...|http://www.w3.org...|http://dbpedia.or...|\n",
      "|http://dbpedia.or...|http://dbpedia.or...|http://dbpedia.or...|\n",
      "|http://dbpedia.or...|http://www.w3.org...|             Vilnius|\n",
      "|http://dbpedia.or...|http://www.w3.org...|http://dbpedia.or...|\n",
      "|http://dbpedia.or...|http://www.w3.org...|Bosnia and Herzeg...|\n",
      "|http://dbpedia.or...|http://dbpedia.or...|http://dbpedia.or...|\n",
      "|http://dbpedia.or...|http://purl.org/d...|http://dbpedia.or...|\n",
      "|http://dbpedia.or...|http://www.w3.org...|http://dbpedia.or...|\n",
      "|http://dbpedia.or...|http://www.w3.org...|            Chișinău|\n",
      "|http://dbpedia.or...|http://www.w3.org...|             Austria|\n",
      "|http://dbpedia.or...|http://www.w3.org...|            Budapest|\n",
      "|http://dbpedia.or...|http://www.w3.org...|http://dbpedia.or...|\n",
      "|http://dbpedia.or...|http://dbpedia.or...|http://dbpedia.or...|\n",
      "|http://dbpedia.or...|http://www.w3.org...|           Bucharest|\n",
      "|http://dbpedia.or...|http://www.w3.org...|               Sofia|\n",
      "|http://dbpedia.or...|http://www.w3.org...|              Berlin|\n",
      "|http://dbpedia.or...|http://www.w3.org...|http://dbpedia.or...|\n",
      "|http://dbpedia.or...|http://www.w3.org...|http://dbpedia.or...|\n",
      "|http://dbpedia.or...|http://www.w3.org...|              Vienna|\n",
      "+--------------------+--------------------+--------------------+\n",
      "only showing top 20 rows\n",
      "\n"
     ]
    }
   ],
   "source": [
    "countriesTripleDF = result.dataFrame\n",
    "countriesTripleDF.show()"
   ]
  },
  {
   "cell_type": "markdown",
   "metadata": {},
   "source": [
    "### Result as a GraphFrame"
   ]
  },
  {
   "cell_type": "code",
   "execution_count": 8,
   "metadata": {},
   "outputs": [],
   "source": [
    "countriesGF = result.graphFrame"
   ]
  },
  {
   "cell_type": "code",
   "execution_count": 9,
   "metadata": {},
   "outputs": [
    {
     "name": "stdout",
     "output_type": "stream",
     "text": [
      "+--------------------+------------------------------------------+\n",
      "|                  id|http://www_w3_org/2000/01/rdf-schema#label|\n",
      "+--------------------+------------------------------------------+\n",
      "|http://dbpedia.or...|                                Kazakhstan|\n",
      "|http://dbpedia.or...|                                     Minsk|\n",
      "|http://dbpedia.or...|                                   Estonia|\n",
      "|http://dbpedia.or...|                                    Astana|\n",
      "|http://dbpedia.or...|                            Czech Republic|\n",
      "|http://dbpedia.or...|                      Bosnia and Herzeg...|\n",
      "|http://dbpedia.or...|                                      Riga|\n",
      "|http://dbpedia.or...|                                  Pristina|\n",
      "|http://dbpedia.or...|                                      Rome|\n",
      "|http://dbpedia.or...|                                     Sofia|\n",
      "|http://dbpedia.or...|                                 Bucharest|\n",
      "|http://dbpedia.or...|                                 Ljubljana|\n",
      "|http://dbpedia.or...|                                   Croatia|\n",
      "|http://dbpedia.or...|                                 Podgorica|\n",
      "|http://dbpedia.or...|                                    Kosovo|\n",
      "|http://dbpedia.or...|                        City of San Marino|\n",
      "|http://dbpedia.or...|                                      Kiev|\n",
      "|http://dbpedia.or...|                                   Moldova|\n",
      "|http://dbpedia.or...|                                  Sarajevo|\n",
      "|http://dbpedia.or...|                                    Ankara|\n",
      "+--------------------+------------------------------------------+\n",
      "only showing top 20 rows\n",
      "\n"
     ]
    }
   ],
   "source": [
    "countriesGF.vertices.show()"
   ]
  },
  {
   "cell_type": "code",
   "execution_count": 10,
   "metadata": {},
   "outputs": [
    {
     "name": "stdout",
     "output_type": "stream",
     "text": [
      "+--------------------+--------------------+--------------------+\n",
      "|                 src|        relationship|                 dst|\n",
      "+--------------------+--------------------+--------------------+\n",
      "|http://dbpedia.or...|http://www.w3.org...|http://dbpedia.or...|\n",
      "|http://dbpedia.or...|http://dbpedia.or...|http://dbpedia.or...|\n",
      "|http://dbpedia.or...|http://www.w3.org...|http://dbpedia.or...|\n",
      "|http://dbpedia.or...|http://dbpedia.or...|http://dbpedia.or...|\n",
      "|http://dbpedia.or...|http://purl.org/d...|http://dbpedia.or...|\n",
      "|http://dbpedia.or...|http://www.w3.org...|http://dbpedia.or...|\n",
      "|http://dbpedia.or...|http://www.w3.org...|http://dbpedia.or...|\n",
      "|http://dbpedia.or...|http://dbpedia.or...|http://dbpedia.or...|\n",
      "|http://dbpedia.or...|http://www.w3.org...|http://dbpedia.or...|\n",
      "|http://dbpedia.or...|http://www.w3.org...|http://dbpedia.or...|\n",
      "|http://dbpedia.or...|http://purl.org/d...|http://dbpedia.or...|\n",
      "|http://dbpedia.or...|http://dbpedia.or...|http://dbpedia.or...|\n",
      "|http://dbpedia.or...|http://www.w3.org...|http://dbpedia.or...|\n",
      "|http://dbpedia.or...|http://purl.org/d...|http://dbpedia.or...|\n",
      "|http://dbpedia.or...|http://www.w3.org...|http://dbpedia.or...|\n",
      "|http://dbpedia.or...|http://www.w3.org...|http://dbpedia.or...|\n",
      "|http://dbpedia.or...|http://www.w3.org...|http://dbpedia.or...|\n",
      "|http://dbpedia.or...|http://www.w3.org...|http://dbpedia.or...|\n",
      "|http://dbpedia.or...|http://dbpedia.or...|http://dbpedia.or...|\n",
      "|http://dbpedia.or...|http://dbpedia.or...|http://dbpedia.or...|\n",
      "+--------------------+--------------------+--------------------+\n",
      "only showing top 20 rows\n",
      "\n"
     ]
    }
   ],
   "source": [
    "countriesGF.edges.show()"
   ]
  },
  {
   "cell_type": "markdown",
   "metadata": {},
   "source": [
    "### Save the result as Spark table"
   ]
  },
  {
   "cell_type": "code",
   "execution_count": 11,
   "metadata": {},
   "outputs": [],
   "source": [
    "countriesTripleDF.write.saveAsTable(\"triples\")\n",
    "countriesGF.vertices.write.saveAsTable(\"vertices\")\n",
    "countriesGF.edges.write.saveAsTable(\"edges\")"
   ]
  },
  {
   "cell_type": "markdown",
   "metadata": {},
   "source": [
    "### Read the data back using SparkSQL"
   ]
  },
  {
   "cell_type": "code",
   "execution_count": 12,
   "metadata": {},
   "outputs": [
    {
     "name": "stdout",
     "output_type": "stream",
     "text": [
      "+--------------------+--------------------+--------------------+\n",
      "|             subject|           predicate|              object|\n",
      "+--------------------+--------------------+--------------------+\n",
      "|http://dbpedia.or...|http://www.w3.org...|              Latvia|\n",
      "|http://dbpedia.or...|http://www.w3.org...|http://dbpedia.or...|\n",
      "|http://dbpedia.or...|http://dbpedia.or...|http://dbpedia.or...|\n",
      "|http://dbpedia.or...|http://www.w3.org...|             Vilnius|\n",
      "|http://dbpedia.or...|http://www.w3.org...|http://dbpedia.or...|\n",
      "|http://dbpedia.or...|http://www.w3.org...|Bosnia and Herzeg...|\n",
      "|http://dbpedia.or...|http://dbpedia.or...|http://dbpedia.or...|\n",
      "|http://dbpedia.or...|http://purl.org/d...|http://dbpedia.or...|\n",
      "|http://dbpedia.or...|http://www.w3.org...|http://dbpedia.or...|\n",
      "|http://dbpedia.or...|http://www.w3.org...|            Chișinău|\n",
      "|http://dbpedia.or...|http://www.w3.org...|             Austria|\n",
      "|http://dbpedia.or...|http://www.w3.org...|            Budapest|\n",
      "|http://dbpedia.or...|http://www.w3.org...|http://dbpedia.or...|\n",
      "|http://dbpedia.or...|http://dbpedia.or...|http://dbpedia.or...|\n",
      "|http://dbpedia.or...|http://www.w3.org...|           Bucharest|\n",
      "|http://dbpedia.or...|http://www.w3.org...|               Sofia|\n",
      "|http://dbpedia.or...|http://www.w3.org...|              Berlin|\n",
      "|http://dbpedia.or...|http://www.w3.org...|http://dbpedia.or...|\n",
      "|http://dbpedia.or...|http://www.w3.org...|http://dbpedia.or...|\n",
      "|http://dbpedia.or...|http://www.w3.org...|              Vienna|\n",
      "+--------------------+--------------------+--------------------+\n",
      "only showing top 20 rows\n",
      "\n"
     ]
    }
   ],
   "source": [
    "sqlDF = spark.sql(\"SELECT * FROM triples\")\n",
    "sqlDF.show()"
   ]
  },
  {
   "cell_type": "code",
   "execution_count": 13,
   "metadata": {},
   "outputs": [
    {
     "name": "stdout",
     "output_type": "stream",
     "text": [
      "+--------------------+------------------------------------------+\n",
      "|                  id|http://www_w3_org/2000/01/rdf-schema#label|\n",
      "+--------------------+------------------------------------------+\n",
      "|http://dbpedia.or...|                      Bosnia and Herzeg...|\n",
      "|http://dbpedia.or...|                      Republic of Maced...|\n",
      "|http://dbpedia.or...|                                  Chișinău|\n",
      "|http://dbpedia.or...|                                Montenegro|\n",
      "|http://dbpedia.or...|                                Kazakhstan|\n",
      "|http://dbpedia.or...|                                San Marino|\n",
      "|http://dbpedia.or...|                                 Bucharest|\n",
      "|http://dbpedia.or...|                                 Ljubljana|\n",
      "|http://dbpedia.or...|                                 Lithuania|\n",
      "|http://dbpedia.or...|                                  Sarajevo|\n",
      "|http://dbpedia.or...|                                  Valletta|\n",
      "|http://dbpedia.or...|                                  Slovenia|\n",
      "|http://dbpedia.or...|                                  Bulgaria|\n",
      "|http://dbpedia.or...|                                   Yerevan|\n",
      "|http://dbpedia.or...|                                   Hungary|\n",
      "|http://dbpedia.or...|                                   Romania|\n",
      "|http://dbpedia.or...|                                   Austria|\n",
      "|http://dbpedia.or...|                                   Armenia|\n",
      "|http://dbpedia.or...|                                   Belarus|\n",
      "|http://dbpedia.or...|                                   Ukraine|\n",
      "+--------------------+------------------------------------------+\n",
      "only showing top 20 rows\n",
      "\n"
     ]
    }
   ],
   "source": [
    "sqlDF = spark.sql(\"SELECT * FROM vertices\")\n",
    "sqlDF.show()"
   ]
  },
  {
   "cell_type": "code",
   "execution_count": 14,
   "metadata": {},
   "outputs": [
    {
     "name": "stdout",
     "output_type": "stream",
     "text": [
      "+--------------------+--------------------+--------------------+\n",
      "|                 src|        relationship|                 dst|\n",
      "+--------------------+--------------------+--------------------+\n",
      "|http://dbpedia.or...|http://www.w3.org...|http://dbpedia.or...|\n",
      "|http://dbpedia.or...|http://dbpedia.or...|http://dbpedia.or...|\n",
      "|http://dbpedia.or...|http://www.w3.org...|http://dbpedia.or...|\n",
      "|http://dbpedia.or...|http://dbpedia.or...|http://dbpedia.or...|\n",
      "|http://dbpedia.or...|http://purl.org/d...|http://dbpedia.or...|\n",
      "|http://dbpedia.or...|http://www.w3.org...|http://dbpedia.or...|\n",
      "|http://dbpedia.or...|http://www.w3.org...|http://dbpedia.or...|\n",
      "|http://dbpedia.or...|http://dbpedia.or...|http://dbpedia.or...|\n",
      "|http://dbpedia.or...|http://www.w3.org...|http://dbpedia.or...|\n",
      "|http://dbpedia.or...|http://www.w3.org...|http://dbpedia.or...|\n",
      "|http://dbpedia.or...|http://purl.org/d...|http://dbpedia.or...|\n",
      "|http://dbpedia.or...|http://dbpedia.or...|http://dbpedia.or...|\n",
      "|http://dbpedia.or...|http://www.w3.org...|http://dbpedia.or...|\n",
      "|http://dbpedia.or...|http://purl.org/d...|http://dbpedia.or...|\n",
      "|http://dbpedia.or...|http://www.w3.org...|http://dbpedia.or...|\n",
      "|http://dbpedia.or...|http://www.w3.org...|http://dbpedia.or...|\n",
      "|http://dbpedia.or...|http://www.w3.org...|http://dbpedia.or...|\n",
      "|http://dbpedia.or...|http://www.w3.org...|http://dbpedia.or...|\n",
      "|http://dbpedia.or...|http://dbpedia.or...|http://dbpedia.or...|\n",
      "|http://dbpedia.or...|http://dbpedia.or...|http://dbpedia.or...|\n",
      "+--------------------+--------------------+--------------------+\n",
      "only showing top 20 rows\n",
      "\n"
     ]
    }
   ],
   "source": [
    "sqlDF = spark.sql(\"SELECT * FROM edges\")\n",
    "sqlDF.show()"
   ]
  }
 ],
 "metadata": {
  "kernelspec": {
   "display_name": "Python 3",
   "language": "python",
   "name": "python3"
  },
  "language_info": {
   "codemirror_mode": {
    "name": "ipython",
    "version": 3
   },
   "file_extension": ".py",
   "mimetype": "text/x-python",
   "name": "python",
   "nbconvert_exporter": "python",
   "pygments_lexer": "ipython3",
   "version": "3.7.6"
  }
 },
 "nbformat": 4,
 "nbformat_minor": 4
}
