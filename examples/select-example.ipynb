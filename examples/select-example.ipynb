{
 "cells": [
  {
   "cell_type": "markdown",
   "metadata": {},
   "source": [
    "# PySPARQL SELECT example\n",
    "### Query your SPARQL endpoint and manage the results inside Apache Spark"
   ]
  },
  {
   "cell_type": "code",
   "execution_count": 1,
   "metadata": {},
   "outputs": [],
   "source": [
    "from PySPARQL.Wrapper import PySPARQLWrapper\n",
    "from pyspark.sql import SparkSession"
   ]
  },
  {
   "cell_type": "code",
   "execution_count": 2,
   "metadata": {},
   "outputs": [],
   "source": [
    "spark = SparkSession \\\n",
    "    .builder \\\n",
    "    .appName(\"PySPARQL example\") \\\n",
    "    .getOrCreate()"
   ]
  },
  {
   "cell_type": "markdown",
   "metadata": {},
   "source": [
    "### Use dbpedia SPARQL endpoint"
   ]
  },
  {
   "cell_type": "code",
   "execution_count": 3,
   "metadata": {},
   "outputs": [],
   "source": [
    "sparql_endpoint = \"https://dbpedia.org/sparql\""
   ]
  },
  {
   "cell_type": "code",
   "execution_count": 4,
   "metadata": {},
   "outputs": [],
   "source": [
    "wrapper = PySPARQLWrapper(spark, sparql_endpoint)"
   ]
  },
  {
   "cell_type": "markdown",
   "metadata": {},
   "source": [
    "### Retrieve all the European coutries with their capitals"
   ]
  },
  {
   "cell_type": "code",
   "execution_count": 5,
   "metadata": {},
   "outputs": [],
   "source": [
    "query = \"\"\"\n",
    "PREFIX dbr:    <http://dbpedia.org/resource/>\n",
    "PREFIX dbo:    <http://dbpedia.org/ontology/>\n",
    "PREFIX rdf:    <http://www.w3.org/1999/02/22-rdf-syntax-ns#>\n",
    "PREFIX rdfs:   <http://www.w3.org/2000/01/rdf-schema#>\n",
    "\n",
    "SELECT DISTINCT ?cityLabel ?countryLabel \n",
    "WHERE { \n",
    "    ?city a dbo:City ;\n",
    "        rdfs:label ?cityLabel .\n",
    "    ?country a dbo:Country ;\n",
    "        rdfs:label ?countryLabel ;\n",
    "        dbo:capital ?city ;\n",
    "        dct:subject dbc:Countries_in_Europe .\n",
    "    FILTER (\n",
    "        LANG(?cityLabel) = \"en\" &&\n",
    "        LANG(?countryLabel) = \"en\"\n",
    "    )\n",
    "}     \n",
    "\"\"\""
   ]
  },
  {
   "cell_type": "code",
   "execution_count": 6,
   "metadata": {},
   "outputs": [],
   "source": [
    "result = wrapper.query(query)"
   ]
  },
  {
   "cell_type": "code",
   "execution_count": 7,
   "metadata": {},
   "outputs": [
    {
     "name": "stdout",
     "output_type": "stream",
     "text": [
      "+------------------+--------------------+\n",
      "|         cityLabel|        countryLabel|\n",
      "+------------------+--------------------+\n",
      "|             Minsk|             Belarus|\n",
      "|          Sarajevo|Bosnia and Herzeg...|\n",
      "|             Sofia|            Bulgaria|\n",
      "|            Zagreb|             Croatia|\n",
      "|           Nicosia|              Cyprus|\n",
      "|            Prague|      Czech Republic|\n",
      "|            Berlin|             Germany|\n",
      "|          Budapest|             Hungary|\n",
      "|              Rome|               Italy|\n",
      "|            Astana|          Kazakhstan|\n",
      "|          Pristina|              Kosovo|\n",
      "|              Riga|              Latvia|\n",
      "|           Vilnius|           Lithuania|\n",
      "|          Valletta|               Malta|\n",
      "|          Chișinău|             Moldova|\n",
      "|         Podgorica|          Montenegro|\n",
      "|         Bucharest|             Romania|\n",
      "|City of San Marino|          San Marino|\n",
      "|         Ljubljana|            Slovenia|\n",
      "|            Madrid|               Spain|\n",
      "+------------------+--------------------+\n",
      "only showing top 20 rows\n",
      "\n"
     ]
    }
   ],
   "source": [
    "countriesDF = result.dataFrame\n",
    "countriesDF.show()"
   ]
  },
  {
   "cell_type": "markdown",
   "metadata": {},
   "source": [
    "### Save the result as Spark table"
   ]
  },
  {
   "cell_type": "code",
   "execution_count": 8,
   "metadata": {},
   "outputs": [],
   "source": [
    "countriesDF.write.saveAsTable(\"countries\")"
   ]
  },
  {
   "cell_type": "markdown",
   "metadata": {},
   "source": [
    "### Read the data back using SparkSQL"
   ]
  },
  {
   "cell_type": "code",
   "execution_count": 9,
   "metadata": {},
   "outputs": [
    {
     "name": "stdout",
     "output_type": "stream",
     "text": [
      "+------------------+--------------------+\n",
      "|         cityLabel|        countryLabel|\n",
      "+------------------+--------------------+\n",
      "|          Valletta|               Malta|\n",
      "|          Chișinău|             Moldova|\n",
      "|         Podgorica|          Montenegro|\n",
      "|         Bucharest|             Romania|\n",
      "|City of San Marino|          San Marino|\n",
      "|         Ljubljana|            Slovenia|\n",
      "|            Madrid|               Spain|\n",
      "|              Kiev|             Ukraine|\n",
      "|           Tallinn|             Estonia|\n",
      "|           Yerevan|             Armenia|\n",
      "|            Vienna|             Austria|\n",
      "|            Skopje|Republic of Maced...|\n",
      "|            Ankara|              Turkey|\n",
      "|             Minsk|             Belarus|\n",
      "|          Sarajevo|Bosnia and Herzeg...|\n",
      "|             Sofia|            Bulgaria|\n",
      "|            Zagreb|             Croatia|\n",
      "|           Nicosia|              Cyprus|\n",
      "|            Prague|      Czech Republic|\n",
      "|            Berlin|             Germany|\n",
      "+------------------+--------------------+\n",
      "only showing top 20 rows\n",
      "\n"
     ]
    }
   ],
   "source": [
    "sqlDF = spark.sql(\"SELECT * FROM countries\")\n",
    "sqlDF.show()"
   ]
  }
 ],
 "metadata": {
  "kernelspec": {
   "display_name": "Python 3",
   "language": "python",
   "name": "python3"
  },
  "language_info": {
   "codemirror_mode": {
    "name": "ipython",
    "version": 3
   },
   "file_extension": ".py",
   "mimetype": "text/x-python",
   "name": "python",
   "nbconvert_exporter": "python",
   "pygments_lexer": "ipython3",
   "version": "3.7.6"
  }
 },
 "nbformat": 4,
 "nbformat_minor": 4
}
